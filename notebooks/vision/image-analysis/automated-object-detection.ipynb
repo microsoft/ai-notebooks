{
 "cells": [
  {
   "cell_type": "code",
   "execution_count": null,
   "metadata": {},
   "outputs": [],
   "source": [
    "from azure.cognitiveservices.vision.computervision import ComputerVisionClient\n",
    "from msrest.authentication import CognitiveServicesCredentials\n",
    "\n",
    "import glob\n",
    "import utils"
   ]
  },
  {
   "cell_type": "code",
   "execution_count": null,
   "metadata": {},
   "outputs": [],
   "source": [
    "computervision_client = ComputerVisionClient(\n",
    "    \"<COMPUTER_VISION_ENDPOINT>\",\n",
    "    CognitiveServicesCredentials(\"<COMPUTER_VISION_KEY>\")\n",
    ")"
   ]
  },
  {
   "cell_type": "code",
   "execution_count": null,
   "metadata": {},
   "outputs": [],
   "source": [
    "images_list = glob.glob('./data/*')"
   ]
  },
  {
   "cell_type": "code",
   "execution_count": null,
   "metadata": {},
   "outputs": [],
   "source": [
    "input_img = images_list[0]"
   ]
  },
  {
   "cell_type": "code",
   "execution_count": null,
   "metadata": {},
   "outputs": [],
   "source": [
    "# Call API with URL\n",
    "detect_objects_results_remote = computervision_client.detect_objects(input_img)\n",
    "\n",
    "# Print detected objects results with bounding boxes\n",
    "print(\"\\Detecting objects in the image:\")\n",
    "if len(detect_objects_results_remote.objects) == 0:\n",
    "    print(\"No object was detected.\")\n",
    "else:\n",
    "    for object in detect_objects_results_remote.objects:\n",
    "        print(\"{} in the location {}, {}, {}, {}\".format( \\\n",
    "        object.object_property, \\\n",
    "        object.rectangle.x, object.rectangle.x + object.rectangle.w, \\\n",
    "        object.rectangle.y, object.rectangle.y + object.rectangle.h))\n",
    "        # Realizando o crop\n",
    "        utils.imshow(input_img, (\n",
    "            object.rectangle.x, object.rectangle.y, object.rectangle.w, object.rectangle.h\n",
    "        ))\n",
    "utils.imshow(input_img)"
   ]
  },
  {
   "cell_type": "code",
   "execution_count": null,
   "metadata": {},
   "outputs": [],
   "source": [
    "print(detect_objects_results_remote.as_dict())"
   ]
  }
 ],
 "metadata": {
  "language_info": {
   "name": "python"
  },
  "orig_nbformat": 4
 },
 "nbformat": 4,
 "nbformat_minor": 2
}
